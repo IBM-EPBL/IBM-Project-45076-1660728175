{
  "nbformat": 4,
  "nbformat_minor": 0,
  "metadata": {
    "colab": {
      "provenance": []
    },
    "kernelspec": {
      "name": "python3",
      "display_name": "Python 3"
    },
    "language_info": {
      "name": "python"
    }
  },
  "cells": [
    {
      "cell_type": "code",
      "execution_count": 1,
      "metadata": {
        "colab": {
          "base_uri": "https://localhost:8080/"
        },
        "id": "NBFCtmW-bi_o",
        "outputId": "a40f3b8c-5c96-4198-a8d5-592d3bc5fb61"
      },
      "outputs": [
        {
          "output_type": "stream",
          "name": "stdout",
          "text": [
            "Cannot open camera\n",
            "Can't receive frame (stream end?). Exiting ...\n"
          ]
        }
      ],
      "source": [
        "import numpy as np\n",
        "import cv2 as cv\n",
        "cap = cv.VideoCapture(0)\n",
        "if not cap.isOpened():\n",
        "    print(\"Cannot open camera\")\n",
        "    exit()\n",
        "while True:\n",
        "    # Capture frame-by-frame\n",
        "    ret, frame = cap.read()\n",
        "    # if frame is read correctly ret is True\n",
        "    if not ret:\n",
        "        print(\"Can't receive frame (stream end?). Exiting ...\")\n",
        "        break\n",
        "    # Our operations on the frame come here\n",
        "    gray = cv.cvtColor(frame, cv.COLOR_BGR2GRAY)\n",
        "    # Display the resulting frame\n",
        "    cv.imshow('frame', gray)\n",
        "    if cv.waitKey(1) == ord('q'):\n",
        "        break\n",
        "# When everything done, release the capture\n",
        "cap.release()\n",
        "cv.destroyAllWindows()"
      ]
    }
  ]
}